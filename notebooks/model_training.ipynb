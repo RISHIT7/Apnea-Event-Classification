{
 "cells": [
  {
   "cell_type": "markdown",
   "metadata": {
    "_cell_guid": "b1076dfc-b9ad-4769-8c92-a6c4dae69d19",
    "_uuid": "8f2839f25d086af736a60e9eeb907d3b93b6e0e5"
   },
   "source": [
    "# Importing"
   ]
  },
  {
   "cell_type": "code",
   "execution_count": 3,
   "metadata": {
    "execution": {
     "iopub.execute_input": "2024-12-29T16:43:28.576532Z",
     "iopub.status.busy": "2024-12-29T16:43:28.576179Z",
     "iopub.status.idle": "2024-12-29T16:43:33.223093Z",
     "shell.execute_reply": "2024-12-29T16:43:33.222318Z",
     "shell.execute_reply.started": "2024-12-29T16:43:28.576501Z"
    },
    "trusted": true
   },
   "outputs": [],
   "source": [
    "import os\n",
    "import re\n",
    "import pandas as pd \n",
    "import numpy as np\n",
    "\n",
    "import matplotlib.pyplot as plt\n",
    "import seaborn as sns\n",
    "\n",
    "import torch\n",
    "import torch.nn as nn\n",
    "import torch.nn.functional as F\n",
    "from torchinfo import summary\n",
    "from torch.utils.data import Dataset, DataLoader\n",
    "\n",
    "from tqdm import tqdm\n",
    "from sklearn.model_selection import LeaveOneOut\n",
    "from sklearn.model_selection import train_test_split\n",
    "from sklearn.metrics import confusion_matrix, ConfusionMatrixDisplay\n",
    "\n",
    "from scipy.signal import butter, filtfilt\n",
    "import tsfel"
   ]
  },
  {
   "cell_type": "markdown",
   "metadata": {},
   "source": [
    "#### Setting Seed for reproducability"
   ]
  },
  {
   "cell_type": "code",
   "execution_count": 4,
   "metadata": {
    "execution": {
     "iopub.execute_input": "2024-12-29T16:45:24.412585Z",
     "iopub.status.busy": "2024-12-29T16:45:24.412026Z",
     "iopub.status.idle": "2024-12-29T16:45:24.477126Z",
     "shell.execute_reply": "2024-12-29T16:45:24.476209Z",
     "shell.execute_reply.started": "2024-12-29T16:45:24.412551Z"
    },
    "trusted": true
   },
   "outputs": [
    {
     "data": {
      "text/plain": [
       "'cuda'"
      ]
     },
     "execution_count": 4,
     "metadata": {},
     "output_type": "execute_result"
    }
   ],
   "source": [
    "import random\n",
    "import os\n",
    "\n",
    "seed_value = 42\n",
    "\n",
    "random.seed(seed_value)\n",
    "np.random.seed(seed_value)\n",
    "torch.manual_seed(seed_value)\n",
    "device = 'cuda' if torch.cuda.is_available() else 'cpu'\n",
    "device"
   ]
  },
  {
   "attachments": {
    "50378f7b-fab1-4f63-91f8-491dbda46c0d.png": {
     "image/png": "[encoded data removed]"
    }
   },
   "cell_type": "markdown",
   "metadata": {},
   "source": [
    "## No. Exmaples Per Class\n",
    "----\n",
    "![image.png](attachment:50378f7b-fab1-4f63-91f8-491dbda46c0d.png)"
   ]
  },
  {
   "cell_type": "markdown",
   "metadata": {},
   "source": [
    "# Loading Data\n",
    "----\n",
    "\n"
   ]
  },
  {
   "cell_type": "code",
   "execution_count": 5,
   "metadata": {
    "execution": {
     "iopub.execute_input": "2024-12-29T16:46:25.883118Z",
     "iopub.status.busy": "2024-12-29T16:46:25.881881Z",
     "iopub.status.idle": "2024-12-29T16:46:25.899924Z",
     "shell.execute_reply": "2024-12-29T16:46:25.898961Z",
     "shell.execute_reply.started": "2024-12-29T16:46:25.883070Z"
    },
    "trusted": true
   },
   "outputs": [],
   "source": [
    "class Normalization(object):\n",
    "    def __init__(self, method=\"custom\", axis=1, epsilon=1e-8):\n",
    "        \"\"\"\n",
    "        Args:\n",
    "            method (str): Normalization method ('z-score' or 'min-max').\n",
    "            axis (int): Axis along which to normalize (0: samples, 1: channels).\n",
    "            epsilon (float): Small constant to avoid division by zero.\n",
    "        \"\"\"\n",
    "        self.method = method\n",
    "        self.axis = axis\n",
    "        self.epsilon = epsilon\n",
    "\n",
    "    def __call__(self, signal):\n",
    "        \"\"\"\n",
    "        Apply normalization to the signal.\n",
    "\n",
    "        Args:\n",
    "            signal (torch.Tensor): Signal tensor of shape (n_channels, n_samples).\n",
    "        \n",
    "        Returns:\n",
    "            torch.Tensor: Normalized signal tensor of the same shape.\n",
    "        \"\"\"\n",
    "        signal_np = signal.numpy() if isinstance(signal, torch.Tensor) else signal\n",
    "\n",
    "        if self.method == \"z-score\":\n",
    "            mean = np.mean(signal_np, axis=self.axis, keepdims=True)\n",
    "            std = np.std(signal_np, axis=self.axis, keepdims=True) + self.epsilon\n",
    "            normalized_signal = (signal_np - mean) / std\n",
    "        elif self.method == \"min-max\":\n",
    "            min_val = np.min(signal_np, axis=self.axis, keepdims=True)\n",
    "            max_val = np.max(signal_np, axis=self.axis, keepdims=True) + self.epsilon\n",
    "            normalized_signal = (signal_np - min_val) / (max_val - min_val)\n",
    "        elif self.method == \"min-max-zero-one\":\n",
    "            min_val = np.min(signal_np, axis=self.axis, keepdims=True)\n",
    "            max_val = np.max(signal_np, axis=self.axis, keepdims=True) + self.epsilon\n",
    "            normalized_signal = (signal_np) / (max_val - min_val)\n",
    "        elif self.method == \"custom\":\n",
    "            mean = np.mean(signal_np, axis=self.axis, keepdims=True)\n",
    "            std = np.std(signal_np, axis=self.axis, keepdims=True) + self.epsilon\n",
    "            \n",
    "            min_val = np.min(signal_np[3])\n",
    "            max_val = np.max(signal_np[3]) + self.epsilon\n",
    "            normalized_signal = (signal_np - mean)/std\n",
    "            normalized_signal[3] = (signal_np[3] - min_val)/(max_val-min_val)\n",
    "        else:\n",
    "            raise ValueError(\"Unsupported normalization method. Choose 'z-score' or 'min-max'.\")\n",
    "\n",
    "        return torch.tensor(normalized_signal, dtype=torch.float32)\n",
    "\n",
    "\n",
    "class BandpassFilter(object):\n",
    "    def __init__(self, fs, filters, order=4, padding_value=0):\n",
    "        \"\"\"\n",
    "        Args:\n",
    "            fs (float): Sampling frequency (Hz).\n",
    "            order (int): Order of the filter.\n",
    "            padding_value (float): Value to use for padding short signals.\n",
    "        \"\"\"\n",
    "        self.fs = fs\n",
    "        self.order = order\n",
    "        self.padding_value = padding_value\n",
    "        self.filters = filters\n",
    "\n",
    "    def __call__(self, signal):\n",
    "        \"\"\"\n",
    "        Apply the bandpass filter to the signal based on its index.\n",
    "\n",
    "        Args:\n",
    "            signal (np.ndarray): Signal array of shape (n_channels, n_samples).\n",
    "        \n",
    "        Returns:\n",
    "            np.ndarray: Filtered signal of the same shape.\n",
    "        \"\"\"\n",
    "        filtered_signal = []\n",
    "        for i, channel in enumerate(signal):  # Iterate over channels\n",
    "            lowcut, highcut = self.filters.get(i, (0.1, 0.5))  # Default to 0.1–0.5 Hz\n",
    "            nyquist = 0.5 * self.fs\n",
    "            low = lowcut / nyquist\n",
    "            high = highcut / nyquist\n",
    "            b, a = butter(self.order, [low, high], btype='band')\n",
    "            \n",
    "            # Pad and filter the channel\n",
    "            if len(channel) <= self.order:\n",
    "                padding_length = self.order - len(channel) + 1\n",
    "                channel = np.pad(channel, (padding_length, padding_length), mode='constant', constant_values=self.padding_value)\n",
    "            filtered_channel = filtfilt(b, a, channel)\n",
    "            filtered_signal.append(filtered_channel)\n",
    "\n",
    "        return np.array(filtered_signal)"
   ]
  },
  {
   "cell_type": "markdown",
   "metadata": {},
   "source": [
    "## Events classification dataset"
   ]
  },
  {
   "cell_type": "code",
   "execution_count": 29,
   "metadata": {
    "execution": {
     "iopub.execute_input": "2024-12-29T17:05:09.125946Z",
     "iopub.status.busy": "2024-12-29T17:05:09.125618Z",
     "iopub.status.idle": "2024-12-29T17:05:09.142558Z",
     "shell.execute_reply": "2024-12-29T17:05:09.141644Z",
     "shell.execute_reply.started": "2024-12-29T17:05:09.125920Z"
    },
    "trusted": true
   },
   "outputs": [],
   "source": [
    "class EventClassificationDataset(Dataset):\n",
    "    def __init__(self, root_dir, transform=None, label_mapping=None, included_classes=None):\n",
    "        \"\"\"\n",
    "        Args:\n",
    "            root_dir (str): Root directory containing all folders and signal files.\n",
    "            transform (callable, optional): Optional transform to apply to the signals.\n",
    "            included_classes (list, optional): List of classes to include. If None, include all classes.\n",
    "        \"\"\"\n",
    "        self.root_dir = root_dir\n",
    "        self.transform = transform\n",
    "        self.included_classes = included_classes\n",
    "        self.label_mapping = label_mapping\n",
    "        self.data_info = self._prepare_file_list()\n",
    "\n",
    "    def _prepare_file_list(self):\n",
    "        \"\"\"Scan the dataset directory and prepare a list of file paths and labels.\"\"\"\n",
    "        data_info = []\n",
    "\n",
    "        # ----------------------------------------- TO CONTROL THE NUMBER OF EVENTS PER PATIENT -----------------------------------------\n",
    "        upper_limit_per_event = {\n",
    "            'oa': 320,\n",
    "            'ca': 320,\n",
    "            'oh': 250,\n",
    "            'mh': 800,\n",
    "            'ch': -1\n",
    "        }\n",
    "        \n",
    "        current_count = {\n",
    "            'oa': 0,\n",
    "            'ca': 0,\n",
    "            'oh': 0,\n",
    "            'mh': 0,\n",
    "            'ch': 0\n",
    "        }\n",
    "        expert = ['1', '2']\n",
    "        \n",
    "        # -------------------------------------------- PATIENTS WITH HIGH INTER ANNOTATOR RELIABILITY --------------------------------------------\n",
    "        selected_patients = {\n",
    "            'S1': ['1_1', '2_1', '3_1', '5_1', '6_1', '7_1', '8_1', '10_1', '11_1', '12_1', '13_1', '14_1', '15_1', '16_1', \n",
    "                   '18_1', '19_1', '20_1', '21_1', '22_1', '23_1', '24_1', '26_1', '27_1', '28_1', '29_1', '30_1', '31_1', \n",
    "                   '33_1', '34_1', '35_1', '36_1', '37_1', '39_1', '40_1', \n",
    "                   '41_1', '43_1', '44_1', '45_1', '46_1', '47_1', '48_1', \n",
    "                   # '49_1', '50_1', '51_1', '52_1', '54_1', '55_1', '56_1', '57_1', '59_1', '61_1', '62_1', '63_1', '65_1', '66_1', \n",
    "                   # '67_1', '68_1', '69_1', '70_1', '72_1', '73_1', '74_1', '75_1', '76_1', '77_1', '78_1', '80_1', '81_1', '82_1', \n",
    "                   # '83_1', '84_1', '85_1', '86_1', '87_1', '88_1', '89_1', '91_1', '92_1', '93_1', '94_1', '95_1', '96_1', '97_1', '99_1'\n",
    "                  ],\n",
    "            'S2': [\n",
    "                # '1_1', '1_2', '2_2', '3_1', '3_2', '5_1', '5_2', '6_2', '7_1', '8_1', '8_2'\n",
    "            ],\n",
    "            'S3': [\n",
    "                # '1_1', '2_1', '3_1', '4_1', '5_1', '6_1', '7_1', '8_1', '9_1', '10_1'\n",
    "            ]\n",
    "        }\n",
    "\n",
    "        upper_limit_to_no_events = 321\n",
    "        \n",
    "        event_path = os.path.join(self.root_dir, 'Events')\n",
    "        if os.path.isdir(event_path):\n",
    "            for label_folder in os.listdir(event_path):\n",
    "                if self.included_classes and label_folder not in self.included_classes:\n",
    "                    continue\n",
    "\n",
    "                label_path = os.path.join(event_path, label_folder)\n",
    "                if os.path.isdir(label_path):\n",
    "                    for file_name in os.listdir(label_path):\n",
    "                        # Full file path\n",
    "                        file_path = os.path.join(label_path, file_name)\n",
    "\n",
    "                        # Append (file_path, label) tuple\n",
    "                        if upper_limit_per_event[label_folder] != -1 and current_count[label_folder] >= upper_limit_per_event[label_folder]:\n",
    "                            continue\n",
    "                        else:\n",
    "                            current_count[label_folder] += 1\n",
    "\n",
    "                        # Extracting info from the file_name\n",
    "                        parts = file_name.split('_')\n",
    "                        \n",
    "                        # Extract integers from parts that do not start with \"Stage\"\n",
    "                        ints = [re.findall(r'\\d+', part) for part in parts if not part.startswith('Stage')]\n",
    "                        \n",
    "                        # Flatten the list of lists and convert to integers\n",
    "                        ints = [int(num) for sublist in ints for num in sublist]\n",
    "\n",
    "                        # ints = [Subgroup, PatientID, ExpertNum, EventNum, SessionNum]\n",
    "                        # ints[1]+'_'+str(ints[4]) -> ID_Session\n",
    "                        if str(ints[1])+'_'+str(ints[4]) not in selected_patients['S'+str(ints[0])]:\n",
    "                            continue\n",
    "\n",
    "                        if str(ints[2]) not in expert:\n",
    "                            continue\n",
    "                        \n",
    "                        data_info.append((file_path, label_folder))\n",
    "\n",
    "        # Process Non Event files\n",
    "        non_event_path = os.path.join(self.root_dir, 'Non_Events')\n",
    "        if os.path.isdir(non_event_path):\n",
    "            for subfolder_name in os.listdir(non_event_path):\n",
    "                subfolder_path = os.path.join(non_event_path, subfolder_name)\n",
    "                if os.path.isdir(subfolder_path):\n",
    "                    for file_name in os.listdir(subfolder_path):\n",
    "                        # Full file path\n",
    "                        file_path = os.path.join(subfolder_path, file_name)\n",
    "\n",
    "                        # Label for non-events is \"no_event\"\n",
    "                        if not self.included_classes or 'no_event' in self.included_classes:\n",
    "                            data_info.append((file_path, 'no_event'))\n",
    "\n",
    "                        if upper_limit_to_no_events == 0:\n",
    "                            break\n",
    "                        upper_limit_to_no_events -= 1\n",
    "\n",
    "        return data_info\n",
    "\n",
    "    def __len__(self):\n",
    "        return len(self.data_info)\n",
    "\n",
    "    def __getitem__(self, idx):\n",
    "        if torch.is_tensor(idx):\n",
    "            idx = idx.tolist()\n",
    "\n",
    "        # Get file path and label\n",
    "        file_path, label = self.data_info[idx]\n",
    "\n",
    "        # Convert label to one-hot encoding\n",
    "        unique_labels = self.included_classes if self.included_classes else ['ar', 'awake', 'ca', 'ch', 'l on', 'l out', \n",
    "                                                                             'lm', 'mchg', 'mh', 'oa', 'oh', 'plm', 'rem', \n",
    "                                                                             'no_event']\n",
    "        label_to_one_hot = {label: [1 if i == idx else 0 for i in range(len(unique_labels))] \n",
    "                            for idx, label in enumerate(unique_labels)}\n",
    "        label = label_to_one_hot[label]\n",
    "\n",
    "        possible_columns = [\n",
    "        ['X6', 'X7', 'X8', 'SaO2'],\n",
    "        ['X6', 'X7', 'X8', 'SpO2'],\n",
    "        ['29', '30', '31', 'SaO2'],\n",
    "        ['29', '30', '31', 'SpO2']\n",
    "        ]\n",
    "        \n",
    "        signal = pd.read_csv(file_path)\n",
    "    \n",
    "        for columns in possible_columns:\n",
    "            if all(col in signal.columns for col in columns):\n",
    "                signal = signal[columns]\n",
    "                break\n",
    "        \n",
    "        signal = torch.tensor(signal.values, dtype=torch.float32).T\n",
    "        if self.label_mapping:\n",
    "            label = self.label_mapping[np.argmax(label)]\n",
    "        label = torch.tensor(label, dtype=torch.long)\n",
    "        \n",
    "        if self.transform:\n",
    "            for transform in self.transform:\n",
    "                signal = transform(signal)\n",
    "\n",
    "        return signal.T, label"
   ]
  },
  {
   "cell_type": "markdown",
   "metadata": {},
   "source": [
    "An Example Usage is shown below"
   ]
  },
  {
   "cell_type": "code",
   "execution_count": 30,
   "metadata": {
    "execution": {
     "iopub.execute_input": "2024-12-29T17:05:11.193372Z",
     "iopub.status.busy": "2024-12-29T17:05:11.192714Z",
     "iopub.status.idle": "2024-12-29T17:05:28.777891Z",
     "shell.execute_reply": "2024-12-29T17:05:28.776707Z",
     "shell.execute_reply.started": "2024-12-29T17:05:11.193334Z"
    },
    "trusted": true
   },
   "outputs": [],
   "source": [
    "root_dir = '/kaggle/input/isruc-processed/dataset'\n",
    "included_classes = ['ca', 'oa', 'oh', 'mh', 'ch', 'no_event']\n",
    "\n",
    "filters = {\n",
    "            0: (0.1, 2.0),  \n",
    "            1: (0.1, 2.0),  \n",
    "            2: (0.1, 2.0),  \n",
    "            3: (0.01, 0.5), \n",
    "        }\n",
    "transform = [BandpassFilter(fs=12.5, filters=filters), Normalization(method=\"custom\", axis=1)]\n",
    "\n",
    "event_classification_dataset = EventClassificationDataset(root_dir=root_dir, transform=transform, included_classes=included_classes)\n",
    "event_classification_loader = DataLoader(event_classification_dataset, batch_size=1, shuffle=True)\n",
    "\n",
    "count = 3\n",
    "labels_counts = {\n",
    "    'ca':0,\n",
    "    'oa':0,\n",
    "    'oh':0,\n",
    "    'mh':0,\n",
    "    'ch':0,\n",
    "    'no_event':0\n",
    "}\n",
    "\n",
    "for signals, labels in event_classification_loader:\n",
    "    labels_counts[included_classes[labels.argmax()]] += 1"
   ]
  },
  {
   "cell_type": "code",
   "execution_count": 31,
   "metadata": {
    "execution": {
     "iopub.execute_input": "2024-12-29T17:05:28.779741Z",
     "iopub.status.busy": "2024-12-29T17:05:28.779382Z",
     "iopub.status.idle": "2024-12-29T17:05:28.788114Z",
     "shell.execute_reply": "2024-12-29T17:05:28.786759Z",
     "shell.execute_reply.started": "2024-12-29T17:05:28.779704Z"
    },
    "trusted": true
   },
   "outputs": [
    {
     "data": {
      "text/plain": [
       "{'ca': 171, 'oa': 159, 'oh': 112, 'mh': 117, 'ch': 107, 'no_event': 325}"
      ]
     },
     "execution_count": 31,
     "metadata": {},
     "output_type": "execute_result"
    }
   ],
   "source": [
    "labels_counts"
   ]
  },
  {
   "cell_type": "markdown",
   "metadata": {},
   "source": [
    "# Modelling\n",
    "----\n",
    "\n",
    "## Loss Function"
   ]
  },
  {
   "cell_type": "code",
   "execution_count": 32,
   "metadata": {
    "execution": {
     "iopub.execute_input": "2024-12-29T17:05:35.076646Z",
     "iopub.status.busy": "2024-12-29T17:05:35.075825Z",
     "iopub.status.idle": "2024-12-29T17:05:35.082872Z",
     "shell.execute_reply": "2024-12-29T17:05:35.081937Z",
     "shell.execute_reply.started": "2024-12-29T17:05:35.076607Z"
    },
    "trusted": true
   },
   "outputs": [],
   "source": [
    "def kl_divergence_loss(preds, targets):\n",
    "    targets = targets.float()\n",
    "    \n",
    "    preds = F.softmax(preds, dim=-1)\n",
    "    targets = F.softmax(targets, dim=-1)\n",
    "    loss = F.kl_div(preds.log(), targets, reduction='batchmean')\n",
    "    return loss\n",
    "\n",
    "def mse_loss(preds, targets):\n",
    "    # Ensure that the predictions and targets are one-hot encoded\n",
    "    preds = F.softmax(preds, dim=-1)\n",
    "    return F.mse_loss(preds, targets)\n",
    "\n",
    "# Focal Loss\n",
    "def focal_loss(preds, targets, alpha=0.25, gamma=2.0):\n",
    "    \"\"\"\n",
    "    Focal Loss for multi-class classification.\n",
    "    \n",
    "    Arguments:\n",
    "    preds -- the raw logits from the model (shape: [batch_size, num_classes])\n",
    "    targets -- the true labels (shape: [batch_size])\n",
    "    alpha -- balancing factor for class imbalances (default is 0.25)\n",
    "    gamma -- focusing parameter (default is 2.0)\n",
    "    \n",
    "    Returns:\n",
    "    loss -- the computed focal loss\n",
    "    \"\"\"\n",
    "    # Apply softmax to get probabilities\n",
    "    preds = F.softmax(preds, dim=-1)\n",
    "    \n",
    "    # Convert targets to one-hot encoding\n",
    "    targets_one_hot = targets\n",
    "    \n",
    "    # Cross-entropy loss\n",
    "    ce_loss = F.cross_entropy(preds, targets, reduction='none')\n",
    "    \n",
    "    # Get the predicted probability for the correct class\n",
    "    pt = torch.exp(-ce_loss)\n",
    "    \n",
    "    # Compute focal loss\n",
    "    focal_loss = alpha * (1 - pt) ** gamma * ce_loss\n",
    "    \n",
    "    return focal_loss.mean()"
   ]
  },
  {
   "cell_type": "markdown",
   "metadata": {},
   "source": [
    "## Plotting Train and Test Acc and Loss"
   ]
  },
  {
   "cell_type": "code",
   "execution_count": 33,
   "metadata": {
    "execution": {
     "iopub.execute_input": "2024-12-29T17:05:35.375092Z",
     "iopub.status.busy": "2024-12-29T17:05:35.374434Z",
     "iopub.status.idle": "2024-12-29T17:05:35.381070Z",
     "shell.execute_reply": "2024-12-29T17:05:35.380197Z",
     "shell.execute_reply.started": "2024-12-29T17:05:35.375058Z"
    },
    "trusted": true
   },
   "outputs": [],
   "source": [
    "# Plot history\n",
    "def plot_history(history):\n",
    "    epochs = range(1, len(history['train_loss']) + 1)\n",
    "\n",
    "    plt.figure(figsize=(12, 4))\n",
    "\n",
    "    # Loss plot\n",
    "    plt.subplot(1, 2, 1)\n",
    "    plt.plot(epochs, history['train_loss'], label='Train Loss')\n",
    "    plt.plot(epochs, history['val_loss'], label='Validation Loss')\n",
    "    plt.xlabel('Epochs')\n",
    "    plt.ylabel('Loss')\n",
    "    plt.legend()\n",
    "    plt.title('Loss History')\n",
    "\n",
    "    # Accuracy plot\n",
    "    plt.subplot(1, 2, 2)\n",
    "    plt.plot(epochs, history['train_acc'], label='Train Accuracy')\n",
    "    plt.plot(epochs, history['val_acc'], label='Validation Accuracy')\n",
    "    plt.xlabel('Epochs')\n",
    "    plt.ylabel('Accuracy')\n",
    "    plt.legend()\n",
    "    plt.title('Accuracy History')\n",
    "\n",
    "    plt.show()"
   ]
  },
  {
   "cell_type": "markdown",
   "metadata": {},
   "source": [
    "## Confusion Matrix Function"
   ]
  },
  {
   "cell_type": "code",
   "execution_count": 34,
   "metadata": {
    "execution": {
     "iopub.execute_input": "2024-12-29T17:05:36.891817Z",
     "iopub.status.busy": "2024-12-29T17:05:36.891143Z",
     "iopub.status.idle": "2024-12-29T17:05:36.899028Z",
     "shell.execute_reply": "2024-12-29T17:05:36.898139Z",
     "shell.execute_reply.started": "2024-12-29T17:05:36.891783Z"
    },
    "trusted": true
   },
   "outputs": [],
   "source": [
    "def plot_confusion_matrix(model, val_loader, class_names, device=\"cuda\"):\n",
    "    \"\"\"\n",
    "    Evaluates the model and plots a confusion matrix with a custom color map.\n",
    "\n",
    "    Arguments:\n",
    "    - model: Trained PyTorch model.\n",
    "    - val_loader: DataLoader for validation dataset.\n",
    "    - class_names: List of class names for the confusion matrix.\n",
    "    - device: 'cuda' or 'cpu'.\n",
    "    \"\"\"\n",
    "    model.eval()  # Set model to evaluation mode\n",
    "    all_preds = []\n",
    "    all_labels = []\n",
    "\n",
    "    with torch.no_grad():  # Disable gradient computation\n",
    "        for inputs, labels in val_loader:\n",
    "            inputs, labels = inputs.to(device), labels.to(device)\n",
    "\n",
    "            # Forward pass\n",
    "            outputs = model(inputs)\n",
    "            preds = torch.argmax(outputs, dim=1)  # Predicted classes\n",
    "            \n",
    "            # If labels are one-hot encoded, convert them to class indices\n",
    "            if len(labels.shape) > 1 and labels.size(1) > 1:\n",
    "                labels = torch.argmax(labels, dim=1)\n",
    "            \n",
    "            all_preds.extend(preds.cpu().numpy())\n",
    "            all_labels.extend(labels.cpu().numpy())\n",
    "    \n",
    "    # Compute confusion matrix\n",
    "    cm = confusion_matrix(all_labels, all_preds, labels=np.arange(len(class_names)))\n",
    "    disp = ConfusionMatrixDisplay(confusion_matrix=cm, display_labels=class_names)\n",
    "\n",
    "    # Plot the confusion matrix with customization\n",
    "    fig, ax = plt.subplots(figsize=(10, 8))  # Set larger figure size\n",
    "    disp.plot(cmap=\"YlGnBu\", ax=ax, colorbar=True)  # Use \"cividis\" colormap and add colorbar\n",
    "    plt.title(\"Confusion Matrix\", fontsize=16)\n",
    "    plt.xticks(fontsize=12, rotation=45)\n",
    "    plt.yticks(fontsize=12)\n",
    "    plt.show()"
   ]
  },
  {
   "cell_type": "markdown",
   "metadata": {},
   "source": [
    "## Training Function"
   ]
  },
  {
   "cell_type": "code",
   "execution_count": 35,
   "metadata": {
    "execution": {
     "iopub.execute_input": "2024-12-29T17:05:38.675497Z",
     "iopub.status.busy": "2024-12-29T17:05:38.674995Z",
     "iopub.status.idle": "2024-12-29T17:05:38.696400Z",
     "shell.execute_reply": "2024-12-29T17:05:38.695370Z",
     "shell.execute_reply.started": "2024-12-29T17:05:38.675460Z"
    },
    "trusted": true
   },
   "outputs": [],
   "source": [
    "import torch\n",
    "import torch.nn.functional as F\n",
    "from tqdm import tqdm\n",
    "import numpy as np\n",
    "from sklearn.model_selection import LeaveOneOut\n",
    "from collections import defaultdict\n",
    "import copy\n",
    "\n",
    "def train_model(\n",
    "    model,\n",
    "    train_loader,\n",
    "    val_loader,\n",
    "    criterion=None,\n",
    "    optimizer=None,\n",
    "    scheduler=None,\n",
    "    epochs=20,\n",
    "    device=\"cpu\",\n",
    "    early_stopping=False,\n",
    "    patience=20,\n",
    "    min_delta=1e-3,\n",
    "    save_path=\"best_model.pth\",\n",
    "    verbose=True\n",
    "):\n",
    "    \"\"\"\n",
    "    Train a PyTorch model with optional early stopping and learning rate scheduling.\n",
    "\n",
    "    Args:\n",
    "        model (torch.nn.Module): The model to train.\n",
    "        train_loader (DataLoader): DataLoader for the training dataset.\n",
    "        val_loader (DataLoader): DataLoader for the validation dataset.\n",
    "        criterion (callable, optional): Loss function. Default is F.mse_loss.\n",
    "        optimizer (torch.optim.Optimizer): Optimizer for training.\n",
    "        scheduler (callable, optional): Learning rate scheduler.\n",
    "        epochs (int, optional): Number of training epochs. Default is 20.\n",
    "        device (str, optional): Device to train on (\"cpu\" or \"cuda\"). Default is \"cpu\".\n",
    "        early_stopping (bool, optional): Whether to enable early stopping. Default is False.\n",
    "        patience (int, optional): Patience for early stopping. Default is 20.\n",
    "        min_delta (float, optional): Minimum delta for early stopping. Default is 1e-3.\n",
    "        save_path (str, optional): Path to save the best model. Default is 'best_model.pth'.\n",
    "        verbose (bool, optional): Whether to print training progress. Default is True.\n",
    "\n",
    "    Returns:\n",
    "        dict: History of training and validation loss and accuracy.\n",
    "    \"\"\"\n",
    "    history = {\"train_loss\": [], \"val_loss\": [], \"train_acc\": [], \"val_acc\": []}\n",
    "\n",
    "    best_loss = np.inf\n",
    "    best_acc = -np.inf\n",
    "    patience_counter = 0\n",
    "    best_model_state = None\n",
    "\n",
    "    if criterion is None:\n",
    "        criterion = F.mse_loss\n",
    "\n",
    "    for epoch in range(epochs):\n",
    "        model.train()\n",
    "        train_loss, train_correct = 0.0, 0\n",
    "\n",
    "        # Training phase\n",
    "        with tqdm(train_loader, desc=f\"Epoch {epoch + 1}/{epochs} - Training\", unit=\"batch\", disable=not verbose) as tepoch:\n",
    "            for inputs, targets in tepoch:\n",
    "                inputs = inputs.to(device)\n",
    "                targets = targets.to(device)\n",
    "\n",
    "                optimizer.zero_grad()\n",
    "                outputs = model(inputs)\n",
    "                loss = criterion(outputs, targets.float())\n",
    "                loss.backward()\n",
    "                optimizer.step()\n",
    "\n",
    "                train_loss += loss.item() * inputs.size(0)\n",
    "                train_correct += (outputs.argmax(1) == targets.argmax(1)).sum().item()\n",
    "\n",
    "                if verbose:\n",
    "                    tepoch.set_postfix(loss=loss.item())\n",
    "\n",
    "        if scheduler is not None:\n",
    "            scheduler.step()\n",
    "\n",
    "        train_loss /= len(train_loader.dataset)\n",
    "        train_acc = train_correct / len(train_loader.dataset)\n",
    "\n",
    "        # Validation phase\n",
    "        model.eval()\n",
    "        val_loss, val_correct = 0.0, 0\n",
    "        with torch.no_grad():\n",
    "            with tqdm(val_loader, desc=f\"Epoch {epoch + 1}/{epochs} - Validation\", unit=\"batch\", disable=not verbose) as vepoch:\n",
    "                for inputs, targets in vepoch:\n",
    "                    inputs = inputs.to(device)\n",
    "                    targets = targets.to(device)\n",
    "\n",
    "                    outputs = model(inputs)\n",
    "                    loss = criterion(outputs, targets.float())\n",
    "                    val_loss += loss.item() * inputs.size(0)\n",
    "                    val_correct += (outputs.argmax(1) == targets.argmax(1)).sum().item()\n",
    "\n",
    "                    if verbose:\n",
    "                        vepoch.set_postfix(loss=loss.item())\n",
    "\n",
    "        val_loss /= len(val_loader.dataset)\n",
    "        val_acc = val_correct / len(val_loader.dataset)\n",
    "\n",
    "        # Save history\n",
    "        history[\"train_loss\"].append(train_loss)\n",
    "        history[\"val_loss\"].append(val_loss)\n",
    "        history[\"train_acc\"].append(train_acc)\n",
    "        history[\"val_acc\"].append(val_acc)\n",
    "\n",
    "        if verbose:\n",
    "            print(\n",
    "                f\"Epoch {epoch + 1}/{epochs} - \"\n",
    "                f\"Train Loss: {train_loss:.4f}, Train Acc: {train_acc:.4f} - \"\n",
    "                f\"Val Loss: {val_loss:.4f}, Val Acc: {val_acc:.4f}\"\n",
    "            )\n",
    "\n",
    "        # Save the best model\n",
    "        if best_acc < val_acc - min_delta:\n",
    "            best_loss = val_loss\n",
    "            best_acc = val_acc\n",
    "            patience_counter = 0\n",
    "            best_model_state = copy.deepcopy(model.state_dict())\n",
    "            if verbose:\n",
    "                print(f\"New best model found at epoch {epoch + 1} with val_loss: {val_loss:.4f}\")\n",
    "        else:\n",
    "            patience_counter += 1\n",
    "\n",
    "        # Early stopping\n",
    "        if early_stopping and patience_counter >= patience:\n",
    "            if verbose:\n",
    "                print(\"Early stopping triggered!\")\n",
    "            break\n",
    "\n",
    "    # Save the best model at the end of training\n",
    "    if best_model_state is not None:\n",
    "        torch.save(best_model_state, save_path)\n",
    "        if verbose:\n",
    "            print(f\"Best model saved to {save_path} with val_loss: {best_loss:.4f} and val_acc: {best_acc:.4f}\")\n",
    "\n",
    "    return history\n",
    "\n",
    "def train_with_loocv(\n",
    "    model_class,\n",
    "    model_params,\n",
    "    dataset,\n",
    "    batch_size,\n",
    "    optimizer_class,\n",
    "    optimizer_params,\n",
    "    shuffle=True,\n",
    "    max_fold=None,\n",
    "    criterion=None,\n",
    "    scheduler_class=None,\n",
    "    scheduler_params=None,\n",
    "    epochs=20,\n",
    "    device=\"cpu\",\n",
    "    early_stopping=False,\n",
    "    patience=20,\n",
    "    min_delta=1e-3,\n",
    "    save_path=\"best_model.pth\",\n",
    "    verbose=True\n",
    "):\n",
    "    \"\"\"\n",
    "    Train a PyTorch model using Leave-One-Out Cross-Validation (LOOCV), grouped by patient-session.\n",
    "\n",
    "    Args:\n",
    "        model_class (torch.nn.Module): The model class to instantiate for each fold.\n",
    "        model_params (dict): Parameters for the model initialization.\n",
    "        dataset (Dataset): The dataset to perform LOOCV on.\n",
    "        batch_size (int): The batch size for the train loader.\n",
    "        optimizer_class (torch.optim.Optimizer): Optimizer class.\n",
    "        optimizer_params (dict): Parameters to initialize the optimizer.\n",
    "        shuffle (bool, optional): Whether to shuffle the train dataset or not. Default is True.\n",
    "        max_fold (int, optional): Maximum folds for the dataset to prevent extra long training. Default is None.\n",
    "        criterion (callable, optional): Loss function. Default is `mse_loss`.\n",
    "        scheduler_class (callable, optional): Learning rate scheduler class. Default is None.\n",
    "        scheduler_params (dict, optional): Parameters for the scheduler. Default is None.\n",
    "        epochs (int, optional): Number of epochs for training. Default is 20.\n",
    "        device (str, optional): Device to train on (\"cpu\" or \"cuda\"). Default is \"cpu\".\n",
    "        early_stopping (bool, optional): Whether to enable early stopping. Default is False.\n",
    "        patience (int, optional): Patience for early stopping. Default is 20.\n",
    "        min_delta (float, optional): Minimum delta for early stopping. Default is 1e-3.\n",
    "        save_path (str, optional): Path to save the best model for each fold. Default is 'best_model.pth'.\n",
    "        verbose (bool, optional): Whether to print training progress. Default is True.\n",
    "\n",
    "    Returns:\n",
    "        list: A list of histories for each fold.\n",
    "    \"\"\"\n",
    "    # Group data by patient-session based on filename\n",
    "    patient_session_groups = defaultdict(list)\n",
    "\n",
    "    for idx, (_, label) in enumerate(dataset.data_info):\n",
    "        filename = dataset.data_info[idx][0]\n",
    "        filename = filename.split(\"/\")[-1]\n",
    "        patient_session_key = \"_\".join(filename.split(\"_\")[:2])  # e.g., \"S1_p_1\"\n",
    "        patient_session_groups[patient_session_key].append(idx)\n",
    "\n",
    "    # Prepare LOOCV splits based on patient-session groups\n",
    "    group_keys = list(patient_session_groups.keys())\n",
    "    loo = LeaveOneOut()\n",
    "    histories = []\n",
    "\n",
    "    for fold, (train_group_idx, val_group_idx) in enumerate(loo.split(group_keys)):\n",
    "        if verbose:\n",
    "            print(f\"\\nFold {fold + 1}/{len(group_keys)}\")\n",
    "\n",
    "        # Get train and validation indices from groups\n",
    "        train_idx = [idx for group_idx in train_group_idx for idx in patient_session_groups[group_keys[group_idx]]]\n",
    "        val_idx = [idx for group_idx in val_group_idx for idx in patient_session_groups[group_keys[group_idx]]]\n",
    "\n",
    "        train_subset = torch.utils.data.Subset(dataset, train_idx)\n",
    "        val_subset = torch.utils.data.Subset(dataset, val_idx)\n",
    "\n",
    "        train_loader = torch.utils.data.DataLoader(train_subset, batch_size=batch_size, shuffle=shuffle)\n",
    "        val_loader = torch.utils.data.DataLoader(val_subset, batch_size=batch_size, shuffle=False)\n",
    "\n",
    "        model = model_class(**model_params).to(device)\n",
    "        optimizer = optimizer_class(model.parameters(), **optimizer_params)\n",
    "        scheduler = None\n",
    "        if scheduler_class is not None:\n",
    "            scheduler = scheduler_class(optimizer, **scheduler_params)\n",
    "        \n",
    "        # Train the model for the current fold\n",
    "        history = train_model(\n",
    "            model=model,\n",
    "            train_loader=train_loader,\n",
    "            val_loader=val_loader,\n",
    "            criterion=criterion,\n",
    "            optimizer=optimizer,\n",
    "            scheduler=scheduler,\n",
    "            epochs=epochs,\n",
    "            device=device,\n",
    "            early_stopping=early_stopping,\n",
    "            patience=patience,\n",
    "            min_delta=min_delta,\n",
    "            save_path=f\"{save_path}_fold_{fold+1}.pth\",\n",
    "            verbose=verbose,\n",
    "        )\n",
    "\n",
    "        # Append history for this fold\n",
    "        histories.append(history)\n",
    "\n",
    "        if max_fold != None and fold == max_fold:\n",
    "            break\n",
    "            \n",
    "    return histories"
   ]
  },
  {
   "cell_type": "markdown",
   "metadata": {},
   "source": [
    "## Models\n",
    "----\n",
    "\n",
    "### Simple TCN"
   ]
  },
  {
   "cell_type": "code",
   "execution_count": 36,
   "metadata": {
    "execution": {
     "iopub.execute_input": "2024-12-29T17:05:47.203773Z",
     "iopub.status.busy": "2024-12-29T17:05:47.203469Z",
     "iopub.status.idle": "2024-12-29T17:05:47.214220Z",
     "shell.execute_reply": "2024-12-29T17:05:47.213166Z",
     "shell.execute_reply.started": "2024-12-29T17:05:47.203748Z"
    },
    "trusted": true
   },
   "outputs": [],
   "source": [
    "class TCNBlock(nn.Module):\n",
    "    def __init__(self, in_channels, out_channels, kernel_size, dilation_rate):\n",
    "        super(TCNBlock, self).__init__()\n",
    "\n",
    "        self.conv1 = nn.Conv1d(\n",
    "            in_channels,\n",
    "            out_channels,\n",
    "            kernel_size,\n",
    "            padding='same',\n",
    "            dilation=dilation_rate\n",
    "        )\n",
    "        self.batch_norm = nn.BatchNorm1d(out_channels)\n",
    "\n",
    "        # Residual connection\n",
    "        if in_channels != out_channels:\n",
    "            self.shortcut = nn.Conv1d(in_channels, out_channels, kernel_size=1)\n",
    "        else:\n",
    "            self.shortcut = None\n",
    "\n",
    "    def forward(self, x):\n",
    "        out = F.relu(self.conv1(x))\n",
    "        out = self.batch_norm(out)\n",
    "\n",
    "        shortcut = self.shortcut(x) if self.shortcut is not None else x\n",
    "        return F.relu(out + shortcut)\n",
    "\n",
    "class TCNModel(nn.Module):\n",
    "    def __init__(self, n_length, n_features, n_outputs):\n",
    "        super(TCNModel, self).__init__()\n",
    "\n",
    "        self.tcn_blocks = nn.Sequential(\n",
    "            TCNBlock(n_features, 32, kernel_size=3, dilation_rate=1),\n",
    "            TCNBlock(32, 64, kernel_size=3, dilation_rate=2),\n",
    "            TCNBlock(64, 128, kernel_size=3, dilation_rate=4),\n",
    "            TCNBlock(128, 256, kernel_size=3, dilation_rate=8)\n",
    "        )\n",
    "\n",
    "        self.global_avg_pool = nn.AdaptiveAvgPool1d(1)\n",
    "        self.fc1 = nn.Linear(256, 128)\n",
    "        self.fc2 = nn.Linear(128, 64)\n",
    "        self.fc3 = nn.Linear(64, 32)\n",
    "        self.fc4 = nn.Linear(32, n_outputs)\n",
    "\n",
    "        self.batchnorm1 = nn.BatchNorm1d(128)\n",
    "        self.batchnorm2 = nn.BatchNorm1d(64)\n",
    "        self.batchnorm3 = nn.BatchNorm1d(32)\n",
    "        \n",
    "        self.dropout = nn.Dropout(0.3)\n",
    "\n",
    "    def forward(self, x):\n",
    "        x = x.permute(0, 2, 1)  # Convert to (batch_size, n_features, n_length)\n",
    "        x = self.tcn_blocks(x)\n",
    "\n",
    "        x = self.global_avg_pool(x).squeeze(-1)  # Global average pooling\n",
    "\n",
    "        x = F.relu(self.fc1(x))\n",
    "        x = self.batchnorm1(x)\n",
    "        x = self.dropout(x)\n",
    "        x = F.relu(self.fc2(x))\n",
    "        x = self.batchnorm2(x)\n",
    "        x = self.dropout(x)\n",
    "        x = F.relu(self.fc3(x))\n",
    "        x = self.batchnorm3(x)\n",
    "        x = self.dropout(x)\n",
    "        x = self.fc4(x)\n",
    "\n",
    "        return F.softmax(x, dim=1)"
   ]
  },
  {
   "cell_type": "code",
   "execution_count": 37,
   "metadata": {
    "execution": {
     "iopub.execute_input": "2024-12-29T17:05:47.367233Z",
     "iopub.status.busy": "2024-12-29T17:05:47.366624Z",
     "iopub.status.idle": "2024-12-29T17:05:47.539318Z",
     "shell.execute_reply": "2024-12-29T17:05:47.538500Z",
     "shell.execute_reply.started": "2024-12-29T17:05:47.367197Z"
    },
    "trusted": true
   },
   "outputs": [
    {
     "data": {
      "text/plain": [
       "=================================================================\n",
       "Layer (type:depth-idx)                   Param #\n",
       "=================================================================\n",
       "TCNModel                                 --\n",
       "├─Sequential: 1-1                        --\n",
       "│    └─TCNBlock: 2-1                     --\n",
       "│    │    └─Conv1d: 3-1                  416\n",
       "│    │    └─BatchNorm1d: 3-2             64\n",
       "│    │    └─Conv1d: 3-3                  160\n",
       "│    └─TCNBlock: 2-2                     --\n",
       "│    │    └─Conv1d: 3-4                  6,208\n",
       "│    │    └─BatchNorm1d: 3-5             128\n",
       "│    │    └─Conv1d: 3-6                  2,112\n",
       "│    └─TCNBlock: 2-3                     --\n",
       "│    │    └─Conv1d: 3-7                  24,704\n",
       "│    │    └─BatchNorm1d: 3-8             256\n",
       "│    │    └─Conv1d: 3-9                  8,320\n",
       "│    └─TCNBlock: 2-4                     --\n",
       "│    │    └─Conv1d: 3-10                 98,560\n",
       "│    │    └─BatchNorm1d: 3-11            512\n",
       "│    │    └─Conv1d: 3-12                 33,024\n",
       "├─AdaptiveAvgPool1d: 1-2                 --\n",
       "├─Linear: 1-3                            32,896\n",
       "├─Linear: 1-4                            8,256\n",
       "├─Linear: 1-5                            2,080\n",
       "├─Linear: 1-6                            99\n",
       "├─BatchNorm1d: 1-7                       256\n",
       "├─BatchNorm1d: 1-8                       128\n",
       "├─BatchNorm1d: 1-9                       64\n",
       "├─Dropout: 1-10                          --\n",
       "=================================================================\n",
       "Total params: 218,243\n",
       "Trainable params: 218,243\n",
       "Non-trainable params: 0\n",
       "================================================================="
      ]
     },
     "execution_count": 37,
     "metadata": {},
     "output_type": "execute_result"
    }
   ],
   "source": [
    "# Define the model parameters\n",
    "n_timesteps = 30 * 12.5\n",
    "n_features = 4\n",
    "n_outputs = 3\n",
    "\n",
    "# Create the model\n",
    "model = TCNModel(n_length=n_timesteps, n_features=n_features, n_outputs=n_outputs).to(device)\n",
    "summary(model)"
   ]
  },
  {
   "cell_type": "code",
   "execution_count": 38,
   "metadata": {
    "execution": {
     "iopub.execute_input": "2024-12-29T17:06:01.033300Z",
     "iopub.status.busy": "2024-12-29T17:06:01.032987Z",
     "iopub.status.idle": "2024-12-29T17:06:01.086040Z",
     "shell.execute_reply": "2024-12-29T17:06:01.085489Z",
     "shell.execute_reply.started": "2024-12-29T17:06:01.033272Z"
    },
    "trusted": true
   },
   "outputs": [],
   "source": [
    "root_dir = '/kaggle/input/isruc-processed/dataset'\n",
    "included_classes = ['ca', 'oa', 'oh', 'mh', 'ch', 'no_event']\n",
    "\n",
    "filters = {\n",
    "            0: (0.1, 0.5),  # AirFlow: 0.1–0.5 Hz\n",
    "            1: (0.1, 0.5),  # Thoracic Respiration: 0.1–0.5 Hz\n",
    "            2: (0.1, 0.5),  # Thoracic Respiration: 0.1–0.5 Hz\n",
    "            3: (0.05, 2.0), # SpO2: 0.05–2.0 Hz\n",
    "        }\n",
    "transform = [BandpassFilter(fs=12.5, filters=filters), Normalization(method=\"custom\", axis=1)]\n",
    "\n",
    "label_mapping = [[1,0,0], [1,0,0], \n",
    "                 [0,1,0], [0,1,0], [0,1,0],\n",
    "                 [0,0,1]\n",
    "                ]\n",
    "\n",
    "# label_mapping = [[1,0], [1,0], \n",
    "#                  [1,0], [1,0], [1,0],\n",
    "#                  [0,1]\n",
    "#                 ]\n",
    "\n",
    "# label_mapping=None\n",
    "\n",
    "# Create an instance of the SleepStageDataset\n",
    "event_classification_dataset = EventClassificationDataset(root_dir=root_dir, transform=transform, label_mapping=label_mapping, included_classes=included_classes)"
   ]
  },
  {
   "cell_type": "code",
   "execution_count": 72,
   "metadata": {
    "execution": {
     "iopub.execute_input": "2024-12-29T17:35:07.157471Z",
     "iopub.status.busy": "2024-12-29T17:35:07.157118Z",
     "iopub.status.idle": "2024-12-29T17:35:07.165340Z",
     "shell.execute_reply": "2024-12-29T17:35:07.164497Z",
     "shell.execute_reply.started": "2024-12-29T17:35:07.157426Z"
    },
    "trusted": true
   },
   "outputs": [],
   "source": [
    "patient_session_groups = defaultdict(list)\n",
    "\n",
    "for idx, (_, label) in enumerate(event_classification_dataset.data_info):\n",
    "    filename = event_classification_dataset.data_info[idx][0]\n",
    "    filename = filename.split(\"/\")[-1]\n",
    "    patient_session_key = \"_\".join(filename.split(\"_\")[:2])  # e.g., \"S1_p_1\"\n",
    "    patient_session_groups[patient_session_key].append(idx)\n",
    "\n",
    "group_keys = list(patient_session_groups.keys())\n",
    "train_group_keys, test_group_keys = train_test_split(\n",
    "    group_keys, test_size=0.05 #, random_state=-1\n",
    ")\n",
    "\n",
    "# Get train and test indices from groups\n",
    "train_idx = [idx for key in train_group_keys for idx in patient_session_groups[key]]\n",
    "test_idx = [idx for key in test_group_keys for idx in patient_session_groups[key]]\n",
    "\n",
    "# Create train and test subsets\n",
    "train_subset = torch.utils.data.Subset(event_classification_dataset, train_idx)\n",
    "test_subset = torch.utils.data.Subset(event_classification_dataset, test_idx)"
   ]
  },
  {
   "cell_type": "code",
   "execution_count": 73,
   "metadata": {
    "execution": {
     "iopub.execute_input": "2024-12-29T17:35:07.325128Z",
     "iopub.status.busy": "2024-12-29T17:35:07.324438Z",
     "iopub.status.idle": "2024-12-29T17:35:07.330278Z",
     "shell.execute_reply": "2024-12-29T17:35:07.329399Z",
     "shell.execute_reply.started": "2024-12-29T17:35:07.325096Z"
    },
    "trusted": true
   },
   "outputs": [
    {
     "name": "stdout",
     "output_type": "stream",
     "text": [
      "Number of training samples: 944\n",
      "Number of testing samples: 47\n"
     ]
    }
   ],
   "source": [
    "batch_size = 200\n",
    "train_loader = torch.utils.data.DataLoader(train_subset, batch_size=batch_size, shuffle=True)\n",
    "test_loader = torch.utils.data.DataLoader(test_subset, batch_size=batch_size, shuffle=False)\n",
    "\n",
    "print(f\"Number of training samples: {len(train_subset)}\")\n",
    "print(f\"Number of testing samples: {len(test_subset)}\")"
   ]
  },
  {
   "cell_type": "code",
   "execution_count": 74,
   "metadata": {
    "execution": {
     "iopub.execute_input": "2024-12-29T17:35:07.498610Z",
     "iopub.status.busy": "2024-12-29T17:35:07.497610Z",
     "iopub.status.idle": "2024-12-29T17:35:08.250184Z",
     "shell.execute_reply": "2024-12-29T17:35:08.248958Z",
     "shell.execute_reply.started": "2024-12-29T17:35:07.498564Z"
    },
    "trusted": true
   },
   "outputs": [
    {
     "data": {
      "text/plain": [
       "{'A': 15, 'H': 13, 'N': 19}"
      ]
     },
     "execution_count": 74,
     "metadata": {},
     "output_type": "execute_result"
    }
   ],
   "source": [
    "labels_counts = {\n",
    "    'A': 0,\n",
    "    'H': 0,\n",
    "    'N': 0\n",
    "}\n",
    "\n",
    "included_classes = ['A', 'H', 'N']\n",
    "\n",
    "for signals, labels in test_loader:\n",
    "    index = labels.argmax(1)\n",
    "\n",
    "for id_ in index:\n",
    "    labels_counts[included_classes[id_]] += 1\n",
    "\n",
    "labels_counts"
   ]
  },
  {
   "cell_type": "code",
   "execution_count": 76,
   "metadata": {
    "execution": {
     "iopub.execute_input": "2024-12-29T17:36:56.641913Z",
     "iopub.status.busy": "2024-12-29T17:36:56.641201Z",
     "iopub.status.idle": "2024-12-29T17:43:59.797206Z",
     "shell.execute_reply": "2024-12-29T17:43:59.793794Z",
     "shell.execute_reply.started": "2024-12-29T17:36:56.641881Z"
    },
    "trusted": true
   },
   "outputs": [
    {
     "name": "stderr",
     "output_type": "stream",
     "text": [
      "Epoch 1/50 - Training: 100%|██████████| 5/5 [00:16<00:00,  3.28s/batch, loss=0.0846]\n",
      "Epoch 1/50 - Validation: 100%|██████████| 1/1 [00:00<00:00,  1.30batch/s, loss=0.0878]\n"
     ]
    },
    {
     "name": "stdout",
     "output_type": "stream",
     "text": [
      "Epoch 1/50 - Train Loss: 0.0815, Train Acc: 0.9195 - Val Loss: 0.0878, Val Acc: 0.8298\n",
      "New best model found at epoch 1 with val_loss: 0.0878\n"
     ]
    },
    {
     "name": "stderr",
     "output_type": "stream",
     "text": [
      "Epoch 2/50 - Training: 100%|██████████| 5/5 [00:14<00:00,  2.85s/batch, loss=0.0802]\n",
      "Epoch 2/50 - Validation: 100%|██████████| 1/1 [00:00<00:00,  1.55batch/s, loss=0.0854]\n"
     ]
    },
    {
     "name": "stdout",
     "output_type": "stream",
     "text": [
      "Epoch 2/50 - Train Loss: 0.0818, Train Acc: 0.9131 - Val Loss: 0.0854, Val Acc: 0.8723\n",
      "New best model found at epoch 2 with val_loss: 0.0854\n"
     ]
    },
    {
     "name": "stderr",
     "output_type": "stream",
     "text": [
      "Epoch 3/50 - Training: 100%|██████████| 5/5 [00:15<00:00,  3.06s/batch, loss=0.0803]\n",
      "Epoch 3/50 - Validation: 100%|██████████| 1/1 [00:00<00:00,  1.49batch/s, loss=0.0885]\n"
     ]
    },
    {
     "name": "stdout",
     "output_type": "stream",
     "text": [
      "Epoch 3/50 - Train Loss: 0.0812, Train Acc: 0.9216 - Val Loss: 0.0885, Val Acc: 0.8298\n"
     ]
    },
    {
     "name": "stderr",
     "output_type": "stream",
     "text": [
      "Epoch 4/50 - Training: 100%|██████████| 5/5 [00:14<00:00,  2.84s/batch, loss=0.0789]\n",
      "Epoch 4/50 - Validation: 100%|██████████| 1/1 [00:00<00:00,  1.47batch/s, loss=0.0891]\n"
     ]
    },
    {
     "name": "stdout",
     "output_type": "stream",
     "text": [
      "Epoch 4/50 - Train Loss: 0.0804, Train Acc: 0.9258 - Val Loss: 0.0891, Val Acc: 0.8085\n"
     ]
    },
    {
     "name": "stderr",
     "output_type": "stream",
     "text": [
      "Epoch 5/50 - Training: 100%|██████████| 5/5 [00:14<00:00,  3.00s/batch, loss=0.0808]\n",
      "Epoch 5/50 - Validation: 100%|██████████| 1/1 [00:00<00:00,  1.43batch/s, loss=0.0829]\n"
     ]
    },
    {
     "name": "stdout",
     "output_type": "stream",
     "text": [
      "Epoch 5/50 - Train Loss: 0.0789, Train Acc: 0.9502 - Val Loss: 0.0829, Val Acc: 0.8936\n",
      "New best model found at epoch 5 with val_loss: 0.0829\n"
     ]
    },
    {
     "name": "stderr",
     "output_type": "stream",
     "text": [
      "Epoch 6/50 - Training: 100%|██████████| 5/5 [00:13<00:00,  2.73s/batch, loss=0.0783]\n",
      "Epoch 6/50 - Validation: 100%|██████████| 1/1 [00:00<00:00,  1.50batch/s, loss=0.0835]\n"
     ]
    },
    {
     "name": "stdout",
     "output_type": "stream",
     "text": [
      "Epoch 6/50 - Train Loss: 0.0782, Train Acc: 0.9587 - Val Loss: 0.0835, Val Acc: 0.8936\n"
     ]
    },
    {
     "name": "stderr",
     "output_type": "stream",
     "text": [
      "Epoch 7/50 - Training: 100%|██████████| 5/5 [00:15<00:00,  3.05s/batch, loss=0.0785]\n",
      "Epoch 7/50 - Validation: 100%|██████████| 1/1 [00:00<00:00,  1.46batch/s, loss=0.086]\n"
     ]
    },
    {
     "name": "stdout",
     "output_type": "stream",
     "text": [
      "Epoch 7/50 - Train Loss: 0.0775, Train Acc: 0.9650 - Val Loss: 0.0860, Val Acc: 0.8723\n"
     ]
    },
    {
     "name": "stderr",
     "output_type": "stream",
     "text": [
      "Epoch 8/50 - Training: 100%|██████████| 5/5 [00:13<00:00,  2.75s/batch, loss=0.079] \n",
      "Epoch 8/50 - Validation: 100%|██████████| 1/1 [00:00<00:00,  1.48batch/s, loss=0.079]\n"
     ]
    },
    {
     "name": "stdout",
     "output_type": "stream",
     "text": [
      "Epoch 8/50 - Train Loss: 0.0777, Train Acc: 0.9629 - Val Loss: 0.0790, Val Acc: 0.9574\n",
      "New best model found at epoch 8 with val_loss: 0.0790\n"
     ]
    },
    {
     "name": "stderr",
     "output_type": "stream",
     "text": [
      "Epoch 9/50 - Training: 100%|██████████| 5/5 [00:15<00:00,  3.04s/batch, loss=0.0773]\n",
      "Epoch 9/50 - Validation: 100%|██████████| 1/1 [00:01<00:00,  1.00s/batch, loss=0.0871]\n"
     ]
    },
    {
     "name": "stdout",
     "output_type": "stream",
     "text": [
      "Epoch 9/50 - Train Loss: 0.0773, Train Acc: 0.9661 - Val Loss: 0.0871, Val Acc: 0.8511\n"
     ]
    },
    {
     "name": "stderr",
     "output_type": "stream",
     "text": [
      "Epoch 10/50 - Training: 100%|██████████| 5/5 [00:13<00:00,  2.69s/batch, loss=0.0776]\n",
      "Epoch 10/50 - Validation: 100%|██████████| 1/1 [00:00<00:00,  1.53batch/s, loss=0.0847]\n"
     ]
    },
    {
     "name": "stdout",
     "output_type": "stream",
     "text": [
      "Epoch 10/50 - Train Loss: 0.0775, Train Acc: 0.9576 - Val Loss: 0.0847, Val Acc: 0.8723\n"
     ]
    },
    {
     "name": "stderr",
     "output_type": "stream",
     "text": [
      "Epoch 11/50 - Training: 100%|██████████| 5/5 [00:13<00:00,  2.71s/batch, loss=0.077] \n",
      "Epoch 11/50 - Validation: 100%|██████████| 1/1 [00:00<00:00,  1.50batch/s, loss=0.0902]\n"
     ]
    },
    {
     "name": "stdout",
     "output_type": "stream",
     "text": [
      "Epoch 11/50 - Train Loss: 0.0769, Train Acc: 0.9661 - Val Loss: 0.0902, Val Acc: 0.7872\n"
     ]
    },
    {
     "name": "stderr",
     "output_type": "stream",
     "text": [
      "Epoch 12/50 - Training: 100%|██████████| 5/5 [00:15<00:00,  3.08s/batch, loss=0.0767]\n",
      "Epoch 12/50 - Validation: 100%|██████████| 1/1 [00:00<00:00,  1.48batch/s, loss=0.0837]\n"
     ]
    },
    {
     "name": "stdout",
     "output_type": "stream",
     "text": [
      "Epoch 12/50 - Train Loss: 0.0770, Train Acc: 0.9640 - Val Loss: 0.0837, Val Acc: 0.8723\n"
     ]
    },
    {
     "name": "stderr",
     "output_type": "stream",
     "text": [
      "Epoch 13/50 - Training: 100%|██████████| 5/5 [00:13<00:00,  2.71s/batch, loss=0.0779]\n",
      "Epoch 13/50 - Validation: 100%|██████████| 1/1 [00:00<00:00,  1.52batch/s, loss=0.0884]\n"
     ]
    },
    {
     "name": "stdout",
     "output_type": "stream",
     "text": [
      "Epoch 13/50 - Train Loss: 0.0774, Train Acc: 0.9629 - Val Loss: 0.0884, Val Acc: 0.8298\n"
     ]
    },
    {
     "name": "stderr",
     "output_type": "stream",
     "text": [
      "Epoch 14/50 - Training: 100%|██████████| 5/5 [00:14<00:00,  2.98s/batch, loss=0.076] \n",
      "Epoch 14/50 - Validation: 100%|██████████| 1/1 [00:00<00:00,  1.52batch/s, loss=0.087]\n"
     ]
    },
    {
     "name": "stdout",
     "output_type": "stream",
     "text": [
      "Epoch 14/50 - Train Loss: 0.0772, Train Acc: 0.9619 - Val Loss: 0.0870, Val Acc: 0.8085\n"
     ]
    },
    {
     "name": "stderr",
     "output_type": "stream",
     "text": [
      "Epoch 15/50 - Training: 100%|██████████| 5/5 [00:13<00:00,  2.70s/batch, loss=0.0784]\n",
      "Epoch 15/50 - Validation: 100%|██████████| 1/1 [00:00<00:00,  1.47batch/s, loss=0.0882]\n"
     ]
    },
    {
     "name": "stdout",
     "output_type": "stream",
     "text": [
      "Epoch 15/50 - Train Loss: 0.0773, Train Acc: 0.9608 - Val Loss: 0.0882, Val Acc: 0.8298\n"
     ]
    },
    {
     "name": "stderr",
     "output_type": "stream",
     "text": [
      "Epoch 16/50 - Training: 100%|██████████| 5/5 [00:15<00:00,  3.02s/batch, loss=0.078] \n",
      "Epoch 16/50 - Validation: 100%|██████████| 1/1 [00:00<00:00,  1.46batch/s, loss=0.094]\n"
     ]
    },
    {
     "name": "stdout",
     "output_type": "stream",
     "text": [
      "Epoch 16/50 - Train Loss: 0.0765, Train Acc: 0.9735 - Val Loss: 0.0940, Val Acc: 0.7872\n"
     ]
    },
    {
     "name": "stderr",
     "output_type": "stream",
     "text": [
      "Epoch 17/50 - Training: 100%|██████████| 5/5 [00:13<00:00,  2.67s/batch, loss=0.075] \n",
      "Epoch 17/50 - Validation: 100%|██████████| 1/1 [00:00<00:00,  1.51batch/s, loss=0.09]\n"
     ]
    },
    {
     "name": "stdout",
     "output_type": "stream",
     "text": [
      "Epoch 17/50 - Train Loss: 0.0767, Train Acc: 0.9661 - Val Loss: 0.0900, Val Acc: 0.8298\n"
     ]
    },
    {
     "name": "stderr",
     "output_type": "stream",
     "text": [
      "Epoch 18/50 - Training: 100%|██████████| 5/5 [00:14<00:00,  2.90s/batch, loss=0.0761]\n",
      "Epoch 18/50 - Validation: 100%|██████████| 1/1 [00:00<00:00,  1.53batch/s, loss=0.0886]\n"
     ]
    },
    {
     "name": "stdout",
     "output_type": "stream",
     "text": [
      "Epoch 18/50 - Train Loss: 0.0764, Train Acc: 0.9693 - Val Loss: 0.0886, Val Acc: 0.8085\n"
     ]
    },
    {
     "name": "stderr",
     "output_type": "stream",
     "text": [
      "Epoch 19/50 - Training: 100%|██████████| 5/5 [00:13<00:00,  2.68s/batch, loss=0.0767]\n",
      "Epoch 19/50 - Validation: 100%|██████████| 1/1 [00:00<00:00,  1.48batch/s, loss=0.0843]\n"
     ]
    },
    {
     "name": "stdout",
     "output_type": "stream",
     "text": [
      "Epoch 19/50 - Train Loss: 0.0759, Train Acc: 0.9767 - Val Loss: 0.0843, Val Acc: 0.8723\n"
     ]
    },
    {
     "name": "stderr",
     "output_type": "stream",
     "text": [
      "Epoch 20/50 - Training: 100%|██████████| 5/5 [00:13<00:00,  2.76s/batch, loss=0.0755]\n",
      "Epoch 20/50 - Validation: 100%|██████████| 1/1 [00:00<00:00,  1.48batch/s, loss=0.0818]\n"
     ]
    },
    {
     "name": "stdout",
     "output_type": "stream",
     "text": [
      "Epoch 20/50 - Train Loss: 0.0756, Train Acc: 0.9799 - Val Loss: 0.0818, Val Acc: 0.9149\n"
     ]
    },
    {
     "name": "stderr",
     "output_type": "stream",
     "text": [
      "Epoch 21/50 - Training: 100%|██████████| 5/5 [00:15<00:00,  3.05s/batch, loss=0.0756]\n",
      "Epoch 21/50 - Validation: 100%|██████████| 1/1 [00:00<00:00,  1.45batch/s, loss=0.0826]\n"
     ]
    },
    {
     "name": "stdout",
     "output_type": "stream",
     "text": [
      "Epoch 21/50 - Train Loss: 0.0759, Train Acc: 0.9767 - Val Loss: 0.0826, Val Acc: 0.8936\n"
     ]
    },
    {
     "name": "stderr",
     "output_type": "stream",
     "text": [
      "Epoch 22/50 - Training: 100%|██████████| 5/5 [00:13<00:00,  2.72s/batch, loss=0.0764]\n",
      "Epoch 22/50 - Validation: 100%|██████████| 1/1 [00:00<00:00,  1.44batch/s, loss=0.0852]\n"
     ]
    },
    {
     "name": "stdout",
     "output_type": "stream",
     "text": [
      "Epoch 22/50 - Train Loss: 0.0756, Train Acc: 0.9799 - Val Loss: 0.0852, Val Acc: 0.8723\n"
     ]
    },
    {
     "name": "stderr",
     "output_type": "stream",
     "text": [
      "Epoch 23/50 - Training: 100%|██████████| 5/5 [00:15<00:00,  3.05s/batch, loss=0.077] \n",
      "Epoch 23/50 - Validation: 100%|██████████| 1/1 [00:00<00:00,  1.48batch/s, loss=0.0864]\n"
     ]
    },
    {
     "name": "stdout",
     "output_type": "stream",
     "text": [
      "Epoch 23/50 - Train Loss: 0.0753, Train Acc: 0.9820 - Val Loss: 0.0864, Val Acc: 0.8511\n"
     ]
    },
    {
     "name": "stderr",
     "output_type": "stream",
     "text": [
      "Epoch 24/50 - Training: 100%|██████████| 5/5 [00:13<00:00,  2.80s/batch, loss=0.0748]\n",
      "Epoch 24/50 - Validation: 100%|██████████| 1/1 [00:00<00:00,  1.50batch/s, loss=0.0873]\n"
     ]
    },
    {
     "name": "stdout",
     "output_type": "stream",
     "text": [
      "Epoch 24/50 - Train Loss: 0.0755, Train Acc: 0.9820 - Val Loss: 0.0873, Val Acc: 0.8085\n"
     ]
    },
    {
     "name": "stderr",
     "output_type": "stream",
     "text": [
      "Epoch 25/50 - Training: 100%|██████████| 5/5 [00:15<00:00,  3.02s/batch, loss=0.0748]\n",
      "Epoch 25/50 - Validation: 100%|██████████| 1/1 [00:00<00:00,  1.30batch/s, loss=0.0841]\n"
     ]
    },
    {
     "name": "stdout",
     "output_type": "stream",
     "text": [
      "Epoch 25/50 - Train Loss: 0.0753, Train Acc: 0.9820 - Val Loss: 0.0841, Val Acc: 0.8723\n"
     ]
    },
    {
     "name": "stderr",
     "output_type": "stream",
     "text": [
      "Epoch 26/50 - Training: 100%|██████████| 5/5 [00:13<00:00,  2.79s/batch, loss=0.0751]\n",
      "Epoch 26/50 - Validation: 100%|██████████| 1/1 [00:00<00:00,  1.46batch/s, loss=0.0828]\n"
     ]
    },
    {
     "name": "stdout",
     "output_type": "stream",
     "text": [
      "Epoch 26/50 - Train Loss: 0.0754, Train Acc: 0.9820 - Val Loss: 0.0828, Val Acc: 0.9149\n"
     ]
    },
    {
     "name": "stderr",
     "output_type": "stream",
     "text": [
      "Epoch 27/50 - Training: 100%|██████████| 5/5 [00:14<00:00,  3.00s/batch, loss=0.0744]\n",
      "Epoch 27/50 - Validation: 100%|██████████| 1/1 [00:00<00:00,  1.45batch/s, loss=0.0841]\n"
     ]
    },
    {
     "name": "stdout",
     "output_type": "stream",
     "text": [
      "Epoch 27/50 - Train Loss: 0.0756, Train Acc: 0.9788 - Val Loss: 0.0841, Val Acc: 0.8723\n"
     ]
    },
    {
     "name": "stderr",
     "output_type": "stream",
     "text": [
      "Epoch 28/50 - Training: 100%|██████████| 5/5 [00:13<00:00,  2.74s/batch, loss=0.0755]\n",
      "Epoch 28/50 - Validation: 100%|██████████| 1/1 [00:00<00:00,  1.47batch/s, loss=0.0862]"
     ]
    },
    {
     "name": "stdout",
     "output_type": "stream",
     "text": [
      "Epoch 28/50 - Train Loss: 0.0753, Train Acc: 0.9809 - Val Loss: 0.0862, Val Acc: 0.8511\n",
      "Early stopping triggered!\n",
      "Best model saved to best_model.pth with val_loss: 0.0790 and val_acc: 0.9574\n"
     ]
    },
    {
     "name": "stderr",
     "output_type": "stream",
     "text": [
      "\n"
     ]
    }
   ],
   "source": [
    "optimizer = torch.optim.Adam(model.parameters(), lr=0.001)\n",
    "scheduler = torch.optim.lr_scheduler.CosineAnnealingLR(optimizer, T_max=50, eta_min=1e-6)\n",
    "\n",
    "history = train_model(\n",
    "    model=model,\n",
    "    train_loader=train_loader,\n",
    "    val_loader=test_loader,\n",
    "    criterion=focal_loss,\n",
    "    optimizer=optimizer,\n",
    "    scheduler=scheduler,\n",
    "    epochs=50,\n",
    "    device=device,\n",
    "    early_stopping=True,\n",
    "    patience=20,\n",
    "    min_delta=1e-3,\n",
    "    save_path=\"best_model.pth\",\n",
    "    verbose=True\n",
    ")"
   ]
  },
  {
   "cell_type": "code",
   "execution_count": null,
   "metadata": {
    "execution": {
     "iopub.execute_input": "2024-12-29T17:44:23.993595Z",
     "iopub.status.busy": "2024-12-29T17:44:23.992722Z",
     "iopub.status.idle": "2024-12-29T17:44:24.423305Z",
     "shell.execute_reply": "2024-12-29T17:44:24.422511Z",
     "shell.execute_reply.started": "2024-12-29T17:44:23.993558Z"
    },
    "trusted": true
   },
   "outputs": [],
   "source": [
    "plot_history(history)"
   ]
  },
  {
   "cell_type": "code",
   "execution_count": 78,
   "metadata": {
    "execution": {
     "iopub.execute_input": "2024-12-29T17:44:31.518831Z",
     "iopub.status.busy": "2024-12-29T17:44:31.517935Z",
     "iopub.status.idle": "2024-12-29T17:44:32.409568Z",
     "shell.execute_reply": "2024-12-29T17:44:32.408704Z",
     "shell.execute_reply.started": "2024-12-29T17:44:31.518796Z"
    },
    "trusted": true
   },
   "outputs": [
    {
     "data": {
      "image/png": "[encoded data removed]",
      "text/plain": [
       "<Figure size 1000x800 with 2 Axes>"
      ]
     },
     "metadata": {},
     "output_type": "display_data"
    }
   ],
   "source": [
    "plot_confusion_matrix(model, test_loader, class_names=['A', 'H', 'no events'])"
   ]
  },
  {
   "cell_type": "markdown",
   "metadata": {},
   "source": [
    "#### LOOCV\n",
    "----"
   ]
  },
  {
   "cell_type": "code",
   "execution_count": null,
   "metadata": {
    "trusted": true
   },
   "outputs": [],
   "source": [
    "LEARNING_RATE = 0.001\n",
    "BATCH_SIZE = 32\n",
    "T_MAX = 50\n",
    "ETA_MIN = 1e-6\n",
    "EPOCHS = 10\n",
    "DEVICE = \"cuda\" if torch.cuda.is_available() else \"cpu\"\n",
    "\n",
    "model_class = TCNModel\n",
    "model_params = {\"n_length\": 375, \"n_features\": 4, \"n_outputs\": 3}\n",
    "\n",
    "# Call train_with_loocv\n",
    "history = train_with_loocv(\n",
    "    model_class=model_class,\n",
    "    model_params=model_params,\n",
    "    dataset=event_classification_dataset,\n",
    "    batch_size=BATCH_SIZE,\n",
    "    criterion=kl_divergence_loss,\n",
    "    optimizer_class=torch.optim.Adam,\n",
    "    optimizer_params={\"lr\": LEARNING_RATE},\n",
    "    max_fold=2,\n",
    "    scheduler_class=torch.optim.lr_scheduler.CosineAnnealingLR,\n",
    "    scheduler_params={\"T_max\": T_MAX, \"eta_min\": ETA_MIN},\n",
    "    epochs=EPOCHS,\n",
    "    device=DEVICE,\n",
    "    early_stopping=False,  # Set to True if you want early stopping\n",
    "    patience=20,  # Adjust patience if early stopping is enabled\n",
    "    verbose=True\n",
    ")"
   ]
  },
  {
   "cell_type": "code",
   "execution_count": 79,
   "metadata": {
    "execution": {
     "iopub.execute_input": "2024-12-29T17:44:41.782983Z",
     "iopub.status.busy": "2024-12-29T17:44:41.782171Z",
     "iopub.status.idle": "2024-12-29T17:44:41.812961Z",
     "shell.execute_reply": "2024-12-29T17:44:41.812202Z",
     "shell.execute_reply.started": "2024-12-29T17:44:41.782948Z"
    },
    "trusted": true
   },
   "outputs": [],
   "source": [
    "best_model = TCNModel(n_length=n_timesteps, n_features=n_features, n_outputs=n_outputs).to(device)\n",
    "best_model.load_state_dict(torch.load('best_model.pth', weights_only = True))\n",
    "# best_model = model\n",
    "best_model.eval();"
   ]
  },
  {
   "cell_type": "code",
   "execution_count": 80,
   "metadata": {
    "execution": {
     "iopub.execute_input": "2024-12-29T17:44:43.548525Z",
     "iopub.status.busy": "2024-12-29T17:44:43.548140Z",
     "iopub.status.idle": "2024-12-29T17:44:44.629623Z",
     "shell.execute_reply": "2024-12-29T17:44:44.627349Z",
     "shell.execute_reply.started": "2024-12-29T17:44:43.548490Z"
    },
    "trusted": true
   },
   "outputs": [
    {
     "name": "stdout",
     "output_type": "stream",
     "text": [
      "val_acc: 0.9574468085106383\n"
     ]
    }
   ],
   "source": [
    "val_correct = 0.0\n",
    "with torch.no_grad():\n",
    "    for inputs, targets in test_loader:\n",
    "        inputs = inputs.to(device)\n",
    "        targets = targets.to(device)\n",
    "    \n",
    "        outputs = best_model(inputs)\n",
    "        val_correct += (outputs.argmax(1) == targets.argmax(1)).sum().item()\n",
    "    print(f\"val_acc: {val_correct/len(test_loader.dataset)}\")"
   ]
  },
  {
   "cell_type": "code",
   "execution_count": 82,
   "metadata": {
    "execution": {
     "iopub.execute_input": "2024-12-29T17:44:52.855565Z",
     "iopub.status.busy": "2024-12-29T17:44:52.854697Z",
     "iopub.status.idle": "2024-12-29T17:44:53.785116Z",
     "shell.execute_reply": "2024-12-29T17:44:53.784208Z",
     "shell.execute_reply.started": "2024-12-29T17:44:52.855528Z"
    },
    "trusted": true
   },
   "outputs": [
    {
     "data": {
      "image/png": "[encoded data removed]",
      "text/plain": [
       "<Figure size 1000x800 with 2 Axes>"
      ]
     },
     "metadata": {},
     "output_type": "display_data"
    }
   ],
   "source": [
    "plot_confusion_matrix(best_model, test_loader, class_names=[\"apnea\", \"hypopnea\", \"no events\"])"
   ]
  },
  {
   "cell_type": "code",
   "execution_count": 83,
   "metadata": {
    "execution": {
     "iopub.execute_input": "2024-12-29T17:46:56.892130Z",
     "iopub.status.busy": "2024-12-29T17:46:56.891262Z",
     "iopub.status.idle": "2024-12-29T17:46:56.915631Z",
     "shell.execute_reply": "2024-12-29T17:46:56.914838Z",
     "shell.execute_reply.started": "2024-12-29T17:46:56.892094Z"
    },
    "trusted": true
   },
   "outputs": [
    {
     "data": {
      "text/plain": [
       "{'Accuracy': 0.9574468085106383,\n",
       " 'Precision (per class)': array([1.        , 0.86666667, 1.        ]),\n",
       " 'Recall (per class)': array([0.86666667, 1.        , 1.        ]),\n",
       " 'F1-score (per class)': array([0.92857143, 0.92857143, 1.        ]),\n",
       " 'Macro Precision': 0.9555555555555556,\n",
       " 'Macro Recall': 0.9555555555555556,\n",
       " 'Macro F1': 0.9523809523809524,\n",
       " 'Classification Report': {'apnea': {'precision': 1.0,\n",
       "   'recall': 1.0,\n",
       "   'f1-score': 1.0,\n",
       "   'support': 15},\n",
       "  'hypopnea': {'precision': 1.0,\n",
       "   'recall': 1.0,\n",
       "   'f1-score': 1.0,\n",
       "   'support': 13},\n",
       "  'no events': {'precision': 1.0,\n",
       "   'recall': 1.0,\n",
       "   'f1-score': 1.0,\n",
       "   'support': 19},\n",
       "  'accuracy': 1.0,\n",
       "  'macro avg': {'precision': 1.0,\n",
       "   'recall': 1.0,\n",
       "   'f1-score': 1.0,\n",
       "   'support': 47},\n",
       "  'weighted avg': {'precision': 1.0,\n",
       "   'recall': 1.0,\n",
       "   'f1-score': 1.0,\n",
       "   'support': 47}}}"
      ]
     },
     "execution_count": 83,
     "metadata": {},
     "output_type": "execute_result"
    }
   ],
   "source": [
    "import numpy as np\n",
    "from sklearn.metrics import accuracy_score, precision_score, recall_score, f1_score, classification_report, confusion_matrix\n",
    "\n",
    "# Confusion matrix values from the image\n",
    "confusion_matrix_values = np.array([\n",
    "    [13, 2, 0],  # True apnea\n",
    "    [0, 13, 0],  # True hypopnea\n",
    "    [0, 0, 19]   # True no events\n",
    "])\n",
    "\n",
    "# Extract individual values\n",
    "true_positives = np.diag(confusion_matrix_values)  # Diagonal elements (TPs for each class)\n",
    "total_samples = confusion_matrix_values.sum()     # Total number of samples\n",
    "false_positives = confusion_matrix_values.sum(axis=0) - true_positives  # Column-wise sum minus TP\n",
    "false_negatives = confusion_matrix_values.sum(axis=1) - true_positives  # Row-wise sum minus TP\n",
    "true_negatives = total_samples - (false_positives + false_negatives + true_positives)  # Rest\n",
    "\n",
    "# Calculate metrics per class\n",
    "precision_per_class = true_positives / (true_positives + false_positives)\n",
    "recall_per_class = true_positives / (true_positives + false_negatives)\n",
    "f1_score_per_class = 2 * (precision_per_class * recall_per_class) / (precision_per_class + recall_per_class)\n",
    "\n",
    "# Handle NaN cases (e.g., division by zero)\n",
    "precision_per_class = np.nan_to_num(precision_per_class)\n",
    "recall_per_class = np.nan_to_num(recall_per_class)\n",
    "f1_score_per_class = np.nan_to_num(f1_score_per_class)\n",
    "\n",
    "# Overall metrics\n",
    "accuracy = true_positives.sum() / total_samples\n",
    "macro_precision = precision_per_class.mean()\n",
    "macro_recall = recall_per_class.mean()\n",
    "macro_f1 = f1_score_per_class.mean()\n",
    "\n",
    "# Classification report\n",
    "y_true = np.repeat([0, 1, 2], confusion_matrix_values.sum(axis=1))  # True labels\n",
    "y_pred = np.hstack([[i] * confusion_matrix_values[i, j] for i in range(3) for j in range(3)])  # Predicted labels\n",
    "\n",
    "report = classification_report(y_true, y_pred, target_names=[\"apnea\", \"hypopnea\", \"no events\"], output_dict=True)\n",
    "\n",
    "# Summarize results\n",
    "results = {\n",
    "    \"Accuracy\": accuracy,\n",
    "    \"Precision (per class)\": precision_per_class,\n",
    "    \"Recall (per class)\": recall_per_class,\n",
    "    \"F1-score (per class)\": f1_score_per_class,\n",
    "    \"Macro Precision\": macro_precision,\n",
    "    \"Macro Recall\": macro_recall,\n",
    "    \"Macro F1\": macro_f1,\n",
    "    \"Classification Report\": report\n",
    "}\n",
    "\n",
    "results\n"
   ]
  },
  {
   "cell_type": "markdown",
   "metadata": {},
   "source": [
    "# TSFEL\n",
    "----"
   ]
  },
  {
   "cell_type": "code",
   "execution_count": null,
   "metadata": {
    "execution": {
     "execution_failed": "2024-12-27T08:29:57.174Z"
    },
    "trusted": true
   },
   "outputs": [],
   "source": [
    "class EvtClassSetForTSFEL(Dataset):\n",
    "    def __init__(self, root_dir, transform=None, label_mapping=None, included_classes=None):\n",
    "        \"\"\"\n",
    "        Args:\n",
    "            root_dir (str): Root directory containing all folders and signal files.\n",
    "            transform (callable, optional): Optional transform to apply to the signals.\n",
    "            included_classes (list, optional): List of classes to include. If None, include all classes.\n",
    "        \"\"\"\n",
    "        self.root_dir = root_dir\n",
    "        self.transform = transform\n",
    "        self.included_classes = included_classes\n",
    "        self.label_mapping = label_mapping\n",
    "        self.data_info = self._prepare_file_list()\n",
    "\n",
    "    def _prepare_file_list(self):\n",
    "        \"\"\"Scan the dataset directory and prepare a list of file paths and labels.\"\"\"\n",
    "        data_info = []\n",
    "\n",
    "        # Process Event files\n",
    "        upper_limit_per_event = {\n",
    "            'oa': -1,\n",
    "            'ca': -1,\n",
    "            'oh': -1,\n",
    "            'mh': -1,\n",
    "            'ch': -1\n",
    "        }\n",
    "        \n",
    "        current_count = {\n",
    "            'oa': 0,\n",
    "            'ca': 0,\n",
    "            'oh': 0,\n",
    "            'mh': 0,\n",
    "            'ch': 0\n",
    "        }\n",
    "        expert = ['1', '2']\n",
    "        \n",
    "        selected_patients = {\n",
    "            'S1': ['1_1', '2_1', '3_1', '5_1', '6_1', '7_1', '8_1', '10_1', '11_1', '12_1', '13_1', '14_1', '15_1', '16_1', \n",
    "                   '18_1', '19_1', '20_1', '21_1', '22_1', '23_1', '24_1', '26_1', '27_1', '28_1', '29_1', '30_1', '31_1', \n",
    "                   '33_1', '34_1', '35_1', '36_1', '37_1', '39_1', '40_1', '41_1', '43_1', '44_1', '45_1', '46_1', '47_1', '48_1', \n",
    "                   '49_1', '50_1', '51_1', '52_1', '54_1', '55_1', '56_1', '57_1', '59_1', '61_1', '62_1', '63_1', '65_1', '66_1', \n",
    "                   '67_1', '68_1', '69_1', '70_1', '72_1', '73_1', '74_1', '75_1', '76_1', '77_1', '78_1', '80_1', '81_1', '82_1', \n",
    "                   '83_1', '84_1', '85_1', '86_1', '87_1', '88_1', '89_1', '91_1', '92_1', '93_1', '94_1', '95_1', '96_1', '97_1', '99_1'],\n",
    "            'S2': ['1_1', '1_2', '2_2', '3_1', '3_2', '5_1', '5_2', '6_2', '7_1', '8_1', '8_2'],\n",
    "            'S3': ['1_1', '2_1', '3_1', '4_1', '5_1', '6_1', '7_1', '8_1', '9_1', '10_1']\n",
    "        }\n",
    "\n",
    "        upper_limit_to_no_events = 6000\n",
    "        \n",
    "        event_path = os.path.join(self.root_dir, 'Events')\n",
    "        if os.path.isdir(event_path):\n",
    "            for label_folder in os.listdir(event_path):\n",
    "                if self.included_classes and label_folder not in self.included_classes:\n",
    "                    continue\n",
    "\n",
    "                label_path = os.path.join(event_path, label_folder)\n",
    "                if os.path.isdir(label_path):\n",
    "                    for file_name in os.listdir(label_path):\n",
    "                        # Full file path\n",
    "                        file_path = os.path.join(label_path, file_name)\n",
    "\n",
    "                        # Append (file_path, label) tuple\n",
    "                        if upper_limit_per_event[label_folder] != -1 and current_count[label_folder] == upper_limit_per_event[label_folder]:\n",
    "                            continue\n",
    "                        else:\n",
    "                            current_count[label_folder] += 1\n",
    "\n",
    "                        # Extracting info from the file_name\n",
    "                        parts = file_name.split('_')\n",
    "                        \n",
    "                        # Extract integers from parts that do not start with \"Stage\"\n",
    "                        ints = [re.findall(r'\\d+', part) for part in parts if not part.startswith('Stage')]\n",
    "                        \n",
    "                        # Flatten the list of lists and convert to integers\n",
    "                        ints = [int(num) for sublist in ints for num in sublist]\n",
    "\n",
    "                        # ints = [Subgroup, PatientID, ExpertNum, EventNum, SessionNum]\n",
    "                        # ints[1]+'_'+str(ints[4]) -> ID_Session\n",
    "                        if str(ints[1])+'_'+str(ints[4]) not in selected_patients['S'+str(ints[0])]:\n",
    "                            continue\n",
    "\n",
    "                        if str(ints[2]) not in expert:\n",
    "                            continue\n",
    "                        \n",
    "                        data_info.append((file_path, label_folder, ints))\n",
    "\n",
    "        # Process Non Event files\n",
    "        non_event_path = os.path.join(self.root_dir, 'Non_Events')\n",
    "        if os.path.isdir(non_event_path):\n",
    "            for subfolder_name in os.listdir(non_event_path):\n",
    "                subfolder_path = os.path.join(non_event_path, subfolder_name)\n",
    "                if os.path.isdir(subfolder_path):\n",
    "                    for file_name in os.listdir(subfolder_path):\n",
    "                        # Full file path\n",
    "                        file_path = os.path.join(subfolder_path, file_name)\n",
    "\n",
    "                        if upper_limit_to_no_events == 0:\n",
    "                            break\n",
    "                        upper_limit_to_no_events -= 1\n",
    "\n",
    "                        # Extracting info from the file_name\n",
    "                        parts = file_name.split('_')\n",
    "                        \n",
    "                        # Extract integers from parts that do not start with \"Stage\"\n",
    "                        ints = [re.findall(r'\\d+', part) for part in parts if not part.startswith('Stage')]\n",
    "                        \n",
    "                        # Flatten the list of lists and convert to integers\n",
    "                        ints = [int(num) for sublist in ints for num in sublist]\n",
    "\n",
    "                        # Label for non-events is \"no_event\"\n",
    "                        if not self.included_classes or 'no_event' in self.included_classes:\n",
    "                            data_info.append((file_path, 'no_event', ints))\n",
    "\n",
    "        return data_info\n",
    "\n",
    "    def __len__(self):\n",
    "        return len(self.data_info)\n",
    "\n",
    "    def __getitem__(self, idx):\n",
    "        if torch.is_tensor(idx):\n",
    "            idx = idx.tolist()\n",
    "\n",
    "        # Get file path and label\n",
    "        file_path, label, ints = self.data_info[idx]\n",
    "        patient_id = (ints[0], ints[1])\n",
    "\n",
    "        # Convert label to one-hot encoding\n",
    "        unique_labels = self.included_classes if self.included_classes else ['ar', 'awake', 'ca', 'ch', 'l on', 'l out', \n",
    "                                                                             'lm', 'mchg', 'mh', 'oa', 'oh', 'plm', 'rem', \n",
    "                                                                             'no_event']\n",
    "        label_to_one_hot = {label: [1 if i == idx else 0 for i in range(len(unique_labels))] \n",
    "                            for idx, label in enumerate(unique_labels)}\n",
    "        label = label_to_one_hot[label]\n",
    "\n",
    "        possible_columns = [\n",
    "        ['X6', 'X7', 'X8', 'SaO2'],\n",
    "        ['X6', 'X7', 'X8', 'SpO2'],\n",
    "        ['29', '30', '31', 'SaO2'],\n",
    "        ['29', '30', '31', 'SpO2']\n",
    "        ]\n",
    "        \n",
    "        signal = pd.read_csv(file_path)\n",
    "    \n",
    "        for columns in possible_columns:\n",
    "            if all(col in signal.columns for col in columns):\n",
    "                signal = signal[columns]\n",
    "                break\n",
    "        \n",
    "        signal = torch.tensor(signal.values, dtype=torch.float32).T\n",
    "        if self.label_mapping:\n",
    "            label = self.label_mapping[np.argmax(label)]\n",
    "        label = torch.tensor(label, dtype=torch.long)\n",
    "        \n",
    "        if self.transform:\n",
    "            for transform in self.transform:\n",
    "                signal = transform(signal)\n",
    "\n",
    "        return signal.T, label, patient_id"
   ]
  },
  {
   "cell_type": "code",
   "execution_count": null,
   "metadata": {
    "execution": {
     "execution_failed": "2024-12-27T08:29:57.175Z"
    },
    "trusted": true
   },
   "outputs": [],
   "source": [
    "def split_by_patient(dataset):\n",
    "    patient_ids = [patient_id for _, _, patient_id in dataset]\n",
    "    unique_patients = list(set(patient_ids))\n",
    "    \n",
    "    # Split patients into train and test sets\n",
    "    train_patients, test_patients = train_test_split(unique_patients, test_size=0.2, random_state=42)\n",
    "    \n",
    "    train_data = []\n",
    "    test_data = []\n",
    "    \n",
    "    # Allocate data based on the patient split\n",
    "    for idx, (_, _, patient_id) in enumerate(dataset):\n",
    "        if patient_id in train_patients:\n",
    "            train_data.append(idx)\n",
    "        else:\n",
    "            test_data.append(idx)\n",
    "    \n",
    "    return train_data, test_data"
   ]
  },
  {
   "cell_type": "markdown",
   "metadata": {},
   "source": [
    "----"
   ]
  },
  {
   "cell_type": "code",
   "execution_count": null,
   "metadata": {
    "execution": {
     "execution_failed": "2024-12-27T08:29:57.175Z"
    },
    "trusted": true
   },
   "outputs": [],
   "source": [
    "# !pip install tsfel\n",
    "\n",
    "cfg = tsfel.get_features_by_domain()  # Default configuration"
   ]
  },
  {
   "cell_type": "code",
   "execution_count": null,
   "metadata": {
    "execution": {
     "execution_failed": "2024-12-27T08:29:57.175Z"
    },
    "trusted": true
   },
   "outputs": [],
   "source": [
    "root_dir = '/kaggle/input/isruc-processed/dataset'\n",
    "included_classes = ['ca', 'oa', 'oh', 'mh', 'ch', 'no_event']\n",
    "\n",
    "filters = {\n",
    "            0: (0.1, 0.5),  # AirFlow: 0.1–0.5 Hz\n",
    "            1: (0.1, 0.5),  # Thoracic Respiration: 0.1–0.5 Hz\n",
    "            2: (0.1, 0.5),  # Thoracic Respiration: 0.1–0.5 Hz\n",
    "            3: (0.05, 2.0), # SpO2: 0.05–2.0 Hz\n",
    "        }\n",
    "transform = [BandpassFilter(fs=12.5, filters=filters), Normalization(method=\"custom\", axis=1)]\n",
    "\n",
    "event_classification_dataset_tsfel = EvtClassSetForTSFEL(root_dir=root_dir, transform=transform, included_classes=included_classes)\n",
    "train_data, test_data = split_by_patient(event_classification_dataset_tsfel)"
   ]
  },
  {
   "cell_type": "code",
   "execution_count": null,
   "metadata": {
    "execution": {
     "execution_failed": "2024-12-27T08:29:57.176Z"
    },
    "trusted": true
   },
   "outputs": [],
   "source": [
    "train_subset = torch.utils.data.Subset(event_classification_dataset_tsfel, train_data)\n",
    "test_subset = torch.utils.data.Subset(event_classification_dataset_tsfel, test_data)"
   ]
  },
  {
   "cell_type": "code",
   "execution_count": null,
   "metadata": {
    "execution": {
     "execution_failed": "2024-12-27T08:29:57.176Z"
    },
    "trusted": true
   },
   "outputs": [],
   "source": [
    "print(f\"Train Subset length: {len(train_subset)}\")\n",
    "print(f\"Test Subset length: {len(test_subset)}\")"
   ]
  },
  {
   "cell_type": "code",
   "execution_count": null,
   "metadata": {
    "execution": {
     "execution_failed": "2024-12-27T08:29:57.174Z",
     "iopub.execute_input": "2024-12-27T08:11:46.099998Z",
     "iopub.status.busy": "2024-12-27T08:11:46.099175Z"
    },
    "trusted": true
   },
   "outputs": [],
   "source": [
    "all_features = []\n",
    "all_labels = []\n",
    "\n",
    "for signals, labels, _ in train_subset:\n",
    "    channel_features = []\n",
    "    \n",
    "    for channel in range(signals.shape[1]):  # Iterate over channels\n",
    "        # Extract a single channel\n",
    "        signal_channel = signals[:, channel].numpy()  # Shape: (375,)\n",
    "        \n",
    "        # Convert signal to Pandas Series (TSFEL requires this format)\n",
    "        signal_series = pd.Series(signal_channel)\n",
    "        \n",
    "        # Extract features for the current channel\n",
    "        features = tsfel.time_series_features_extractor(cfg, signal_series, fs=12.5, verbose=0)\n",
    "        \n",
    "        # Append the flattened feature values\n",
    "        channel_features.append(features.values.flatten())\n",
    "    \n",
    "    # Concatenate features from all channels for this signal\n",
    "    combined_features = np.concatenate(channel_features)\n",
    "    all_features.append(combined_features)\n",
    "    \n",
    "    # Store the corresponding label\n",
    "    all_labels.append(labels.argmax().item())"
   ]
  },
  {
   "cell_type": "code",
   "execution_count": null,
   "metadata": {
    "execution": {
     "execution_failed": "2024-12-27T08:29:57.174Z"
    },
    "trusted": true
   },
   "outputs": [],
   "source": [
    "# Convert to NumPy arrays\n",
    "feature_matrix = np.array(all_features)\n",
    "label_array = np.array(all_labels)\n",
    "\n",
    "print(\"Feature Matrix Shape:\", feature_matrix.shape)\n",
    "print(\"Labels Shape:\", label_array.shape)"
   ]
  },
  {
   "cell_type": "code",
   "execution_count": null,
   "metadata": {
    "trusted": true
   },
   "outputs": [],
   "source": [
    "# Save as a CSV\n",
    "np.savetxt(\"train_features.csv\", feature_matrix, delimiter=\",\")\n",
    "np.savetxt(\"train_labels.csv\", label_array, delimiter=\",\")\n",
    "\n",
    "# Or save using Pandas\n",
    "pd.DataFrame(feature_matrix).to_csv(\"train_features.csv\", index=False)\n",
    "pd.DataFrame(label_array, columns=[\"label\"]).to_csv(\"train_labels.csv\", index=False)"
   ]
  },
  {
   "cell_type": "code",
   "execution_count": null,
   "metadata": {
    "trusted": true
   },
   "outputs": [],
   "source": []
  }
 ],
 "metadata": {
  "kaggle": {
   "accelerator": "gpu",
   "dataSources": [
    {
     "datasetId": 6326521,
     "sourceId": 10240345,
     "sourceType": "datasetVersion"
    },
    {
     "sourceId": 211987458,
     "sourceType": "kernelVersion"
    }
   ],
   "dockerImageVersionId": 30804,
   "isGpuEnabled": true,
   "isInternetEnabled": true,
   "language": "python",
   "sourceType": "notebook"
  },
  "kernelspec": {
   "display_name": "Python 3",
   "language": "python",
   "name": "python3"
  },
  "language_info": {
   "codemirror_mode": {
    "name": "ipython",
    "version": 3
   },
   "file_extension": ".py",
   "mimetype": "text/x-python",
   "name": "python",
   "nbconvert_exporter": "python",
   "pygments_lexer": "ipython3",
   "version": "3.10.14"
  }
 },
 "nbformat": 4,
 "nbformat_minor": 4
}
